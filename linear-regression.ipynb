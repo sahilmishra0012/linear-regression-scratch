{
 "cells": [
  {
   "cell_type": "code",
   "execution_count": 34,
   "metadata": {
    "ExecuteTime": {
     "end_time": "2019-07-10T04:21:26.498306Z",
     "start_time": "2019-07-10T04:21:26.489448Z"
    }
   },
   "outputs": [],
   "source": [
    "import warnings\n",
    "warnings.filterwarnings('ignore')\n",
    "import numpy as np\n",
    "import pandas as pd\n",
    "import matplotlib.pyplot as plt\n",
    "import seaborn as sns\n",
    "from sklearn.datasets import load_boston"
   ]
  },
  {
   "cell_type": "code",
   "execution_count": 35,
   "metadata": {
    "ExecuteTime": {
     "end_time": "2019-07-10T04:21:26.935199Z",
     "start_time": "2019-07-10T04:21:26.814607Z"
    }
   },
   "outputs": [],
   "source": [
    "data=load_boston()"
   ]
  },
  {
   "cell_type": "code",
   "execution_count": 36,
   "metadata": {
    "ExecuteTime": {
     "end_time": "2019-07-10T04:21:27.137826Z",
     "start_time": "2019-07-10T04:21:27.132656Z"
    }
   },
   "outputs": [],
   "source": [
    "train_data=data.data"
   ]
  },
  {
   "cell_type": "code",
   "execution_count": 38,
   "metadata": {
    "ExecuteTime": {
     "end_time": "2019-07-10T04:21:39.732945Z",
     "start_time": "2019-07-10T04:21:39.725876Z"
    }
   },
   "outputs": [],
   "source": [
    "from sklearn.preprocessing import MinMaxScaler\n",
    "scaler=MinMaxScaler()\n",
    "train_data=scaler.fit_transform(train_data)"
   ]
  },
  {
   "cell_type": "code",
   "execution_count": 39,
   "metadata": {
    "ExecuteTime": {
     "end_time": "2019-07-10T04:21:40.348481Z",
     "start_time": "2019-07-10T04:21:40.343147Z"
    }
   },
   "outputs": [
    {
     "data": {
      "text/plain": [
       "(380, 13)"
      ]
     },
     "execution_count": 39,
     "metadata": {},
     "output_type": "execute_result"
    }
   ],
   "source": [
    "X_train=train_data[:380]\n",
    "X_train.shape"
   ]
  },
  {
   "cell_type": "code",
   "execution_count": 40,
   "metadata": {
    "ExecuteTime": {
     "end_time": "2019-07-10T04:21:40.930091Z",
     "start_time": "2019-07-10T04:21:40.918202Z"
    }
   },
   "outputs": [
    {
     "data": {
      "text/plain": [
       "(126, 13)"
      ]
     },
     "execution_count": 40,
     "metadata": {},
     "output_type": "execute_result"
    }
   ],
   "source": [
    "X_test=train_data[380:]\n",
    "X_test.shape"
   ]
  },
  {
   "cell_type": "code",
   "execution_count": 41,
   "metadata": {
    "ExecuteTime": {
     "end_time": "2019-07-10T04:21:41.317174Z",
     "start_time": "2019-07-10T04:21:41.301986Z"
    }
   },
   "outputs": [
    {
     "data": {
      "text/plain": [
       "(380,)"
      ]
     },
     "execution_count": 41,
     "metadata": {},
     "output_type": "execute_result"
    }
   ],
   "source": [
    "y_train=data.target[:380]\n",
    "y_train.shape"
   ]
  },
  {
   "cell_type": "code",
   "execution_count": 42,
   "metadata": {
    "ExecuteTime": {
     "end_time": "2019-07-10T04:21:41.746247Z",
     "start_time": "2019-07-10T04:21:41.734367Z"
    }
   },
   "outputs": [
    {
     "data": {
      "text/plain": [
       "(126,)"
      ]
     },
     "execution_count": 42,
     "metadata": {},
     "output_type": "execute_result"
    }
   ],
   "source": [
    "y_test=data.target[380:]\n",
    "y_test.shape"
   ]
  },
  {
   "cell_type": "code",
   "execution_count": 43,
   "metadata": {
    "ExecuteTime": {
     "end_time": "2019-07-10T04:21:42.146705Z",
     "start_time": "2019-07-10T04:21:42.135258Z"
    }
   },
   "outputs": [],
   "source": [
    "from sklearn.linear_model import LinearRegression"
   ]
  },
  {
   "cell_type": "code",
   "execution_count": 258,
   "metadata": {
    "ExecuteTime": {
     "end_time": "2019-07-10T09:20:12.353188Z",
     "start_time": "2019-07-10T09:20:12.344441Z"
    }
   },
   "outputs": [],
   "source": [
    "lm=LinearRegression(fit_intercept=False)"
   ]
  },
  {
   "cell_type": "code",
   "execution_count": 259,
   "metadata": {
    "ExecuteTime": {
     "end_time": "2019-07-10T09:20:12.846421Z",
     "start_time": "2019-07-10T09:20:12.830378Z"
    }
   },
   "outputs": [
    {
     "data": {
      "text/plain": [
       "LinearRegression(copy_X=True, fit_intercept=False, n_jobs=None,\n",
       "         normalize=False)"
      ]
     },
     "execution_count": 259,
     "metadata": {},
     "output_type": "execute_result"
    }
   ],
   "source": [
    "lm.fit(X_train,y_train)"
   ]
  },
  {
   "cell_type": "code",
   "execution_count": 262,
   "metadata": {
    "ExecuteTime": {
     "end_time": "2019-07-10T09:20:29.844895Z",
     "start_time": "2019-07-10T09:20:29.828375Z"
    }
   },
   "outputs": [
    {
     "data": {
      "text/plain": [
       "array([-27.98288286,   4.63524379,   3.57670266,   0.74680803,\n",
       "        -2.39562713,  35.16674705,   0.78113389,  -8.37565552,\n",
       "        13.27519506,  -6.34668043,  -5.72842707,  13.16463217,\n",
       "       -13.44290616])"
      ]
     },
     "execution_count": 262,
     "metadata": {},
     "output_type": "execute_result"
    }
   ],
   "source": [
    "lm.coef_"
   ]
  },
  {
   "cell_type": "code",
   "execution_count": 58,
   "metadata": {
    "ExecuteTime": {
     "end_time": "2019-07-10T04:39:27.444945Z",
     "start_time": "2019-07-10T04:39:27.440070Z"
    }
   },
   "outputs": [],
   "source": [
    "y_pred_train=lm.predict(X_train)\n",
    "y_pred_test=lm.predict(X_test)"
   ]
  },
  {
   "cell_type": "code",
   "execution_count": 59,
   "metadata": {
    "ExecuteTime": {
     "end_time": "2019-07-10T04:39:27.606822Z",
     "start_time": "2019-07-10T04:39:27.603807Z"
    }
   },
   "outputs": [],
   "source": [
    "from sklearn import metrics"
   ]
  },
  {
   "cell_type": "code",
   "execution_count": 60,
   "metadata": {
    "ExecuteTime": {
     "end_time": "2019-07-10T04:39:27.748594Z",
     "start_time": "2019-07-10T04:39:27.739583Z"
    }
   },
   "outputs": [
    {
     "name": "stdout",
     "output_type": "stream",
     "text": [
      "Train error 4.60417357218944\n",
      "Test error 7.819688142087272\n"
     ]
    }
   ],
   "source": [
    "print(\"Train error\",np.sqrt(metrics.mean_squared_error(y_train, y_pred_train)))\n",
    "print(\"Test error\",np.sqrt(metrics.mean_squared_error(y_test, y_pred_test)))"
   ]
  },
  {
   "cell_type": "code",
   "execution_count": 61,
   "metadata": {
    "ExecuteTime": {
     "end_time": "2019-07-10T04:39:28.616868Z",
     "start_time": "2019-07-10T04:39:28.462103Z"
    }
   },
   "outputs": [
    {
     "data": {
      "image/png": "[encoded data removed]",
      "text/plain": [
       "<Figure size 432x288 with 1 Axes>"
      ]
     },
     "metadata": {
      "needs_background": "light"
     },
     "output_type": "display_data"
    }
   ],
   "source": [
    "plt.scatter(y_test,y_pred_test)\n",
    "plt.show()"
   ]
  },
  {
   "cell_type": "code",
   "execution_count": 62,
   "metadata": {
    "ExecuteTime": {
     "end_time": "2019-07-10T04:39:28.959903Z",
     "start_time": "2019-07-10T04:39:28.827911Z"
    }
   },
   "outputs": [
    {
     "data": {
      "image/png": "[encoded data removed]",
      "text/plain": [
       "<Figure size 432x288 with 1 Axes>"
      ]
     },
     "metadata": {
      "needs_background": "light"
     },
     "output_type": "display_data"
    }
   ],
   "source": [
    "plt.scatter(y_train,y_pred_train)\n",
    "plt.show()"
   ]
  },
  {
   "cell_type": "markdown",
   "metadata": {},
   "source": [
    "# Linear Regression"
   ]
  },
  {
   "cell_type": "markdown",
   "metadata": {},
   "source": [
    "## Steps:\n",
    "- Define hypothesis\n",
    "- Choose loss(here squared loss)\n",
    "- Define Cost Function"
   ]
  },
  {
   "cell_type": "code",
   "execution_count": 89,
   "metadata": {
    "ExecuteTime": {
     "end_time": "2019-07-10T04:50:10.925886Z",
     "start_time": "2019-07-10T04:50:10.916729Z"
    }
   },
   "outputs": [],
   "source": [
    "from random import random"
   ]
  },
  {
   "cell_type": "code",
   "execution_count": 266,
   "metadata": {
    "ExecuteTime": {
     "end_time": "2019-07-10T09:21:40.871464Z",
     "start_time": "2019-07-10T09:21:40.858066Z"
    }
   },
   "outputs": [],
   "source": [
    "def hypothesis(x,w):\n",
    "    return np.matmul(x,w.T)"
   ]
  },
  {
   "cell_type": "code",
   "execution_count": 267,
   "metadata": {
    "ExecuteTime": {
     "end_time": "2019-07-10T09:21:41.127945Z",
     "start_time": "2019-07-10T09:21:41.122535Z"
    }
   },
   "outputs": [],
   "source": [
    "def loss(x,y,w):\n",
    "    return (hypothesis(x,w)-y)"
   ]
  },
  {
   "cell_type": "code",
   "execution_count": 268,
   "metadata": {
    "ExecuteTime": {
     "end_time": "2019-07-10T09:21:41.366990Z",
     "start_time": "2019-07-10T09:21:41.362556Z"
    }
   },
   "outputs": [],
   "source": [
    "def cost_function(x,y,w):\n",
    "    cost=np.sum(loss(x,y,w)**2)\n",
    "    cost=cost/(2.0*len(y_train))\n",
    "    return cost"
   ]
  },
  {
   "cell_type": "code",
   "execution_count": 269,
   "metadata": {
    "ExecuteTime": {
     "end_time": "2019-07-10T09:21:41.561673Z",
     "start_time": "2019-07-10T09:21:41.558556Z"
    }
   },
   "outputs": [],
   "source": [
    "def derivative(x,y,w,i):\n",
    "    cost=np.sum(loss(x,y,w)*x[:,i])\n",
    "    cost=(float)(cost/len(y_train))\n",
    "    return cost"
   ]
  },
  {
   "cell_type": "code",
   "execution_count": 343,
   "metadata": {
    "ExecuteTime": {
     "end_time": "2019-07-10T09:33:01.735519Z",
     "start_time": "2019-07-10T09:33:01.718692Z"
    }
   },
   "outputs": [],
   "source": [
    "def gradient_descent(x,y,w,alpha=3):\n",
    "    for i in range(10001):\n",
    "        cost=cost_function(x,y,w)\n",
    "        if i%2000==0:\n",
    "            print('Epoch=',i,'error=',cost)\n",
    "        for i in range(len(w)):\n",
    "            w[i]=w[i]-alpha*derivative(x,y,w,i)\n",
    "    return w"
   ]
  },
  {
   "cell_type": "code",
   "execution_count": 344,
   "metadata": {
    "ExecuteTime": {
     "end_time": "2019-07-10T09:33:21.202487Z",
     "start_time": "2019-07-10T09:33:21.195416Z"
    }
   },
   "outputs": [],
   "source": [
    "def predict(x,w):\n",
    "    y=hypothesis(x,w)\n",
    "    return y"
   ]
  },
  {
   "cell_type": "code",
   "execution_count": 345,
   "metadata": {
    "ExecuteTime": {
     "end_time": "2019-07-10T09:33:22.242500Z",
     "start_time": "2019-07-10T09:33:22.232430Z"
    }
   },
   "outputs": [],
   "source": [
    "weights=np.zeros(X_train.shape[1])"
   ]
  },
  {
   "cell_type": "code",
   "execution_count": 347,
   "metadata": {
    "ExecuteTime": {
     "end_time": "2019-07-10T09:35:33.958722Z",
     "start_time": "2019-07-10T09:35:31.952498Z"
    }
   },
   "outputs": [
    {
     "name": "stdout",
     "output_type": "stream",
     "text": [
      "Epoch= 0 error= 11.894059948742381\n",
      "Epoch= 2000 error= 11.894059944357993\n",
      "Epoch= 4000 error= 11.894059944215048\n",
      "Epoch= 6000 error= 11.894059944210387\n",
      "Epoch= 8000 error= 11.894059944210236\n",
      "Epoch= 10000 error= 11.89405994421023\n"
     ]
    }
   ],
   "source": [
    "weights=gradient_descent(X_train,y_train,weights)"
   ]
  },
  {
   "cell_type": "code",
   "execution_count": 348,
   "metadata": {
    "ExecuteTime": {
     "end_time": "2019-07-10T09:35:40.829699Z",
     "start_time": "2019-07-10T09:35:40.821626Z"
    }
   },
   "outputs": [
    {
     "name": "stdout",
     "output_type": "stream",
     "text": [
      "[-27.98288178   4.63524379   3.57670265   0.74680804  -2.39562712\n",
      "  35.16674702   0.7811339   -8.3756555   13.27519495  -6.34668045\n",
      "  -5.72842706  13.16463219 -13.44290621]\n"
     ]
    }
   ],
   "source": [
    "print(weights)"
   ]
  },
  {
   "cell_type": "code",
   "execution_count": 349,
   "metadata": {
    "ExecuteTime": {
     "end_time": "2019-07-10T09:35:48.055936Z",
     "start_time": "2019-07-10T09:35:48.046401Z"
    }
   },
   "outputs": [
    {
     "name": "stdout",
     "output_type": "stream",
     "text": [
      "[-27.98288286   4.63524379   3.57670266   0.74680803  -2.39562713\n",
      "  35.16674705   0.78113389  -8.37565552  13.27519506  -6.34668043\n",
      "  -5.72842707  13.16463217 -13.44290616]\n"
     ]
    }
   ],
   "source": [
    "print(lm.coef_)"
   ]
  },
  {
   "cell_type": "code",
   "execution_count": 350,
   "metadata": {
    "ExecuteTime": {
     "end_time": "2019-07-10T09:39:19.131517Z",
     "start_time": "2019-07-10T09:39:19.125748Z"
    }
   },
   "outputs": [],
   "source": [
    "y_pred_train=predict(X_train,weights)"
   ]
  },
  {
   "cell_type": "code",
   "execution_count": 351,
   "metadata": {
    "ExecuteTime": {
     "end_time": "2019-07-10T09:39:30.015655Z",
     "start_time": "2019-07-10T09:39:30.010388Z"
    }
   },
   "outputs": [],
   "source": [
    "y_pred_test=predict(X_test,weights)"
   ]
  },
  {
   "cell_type": "code",
   "execution_count": 352,
   "metadata": {
    "ExecuteTime": {
     "end_time": "2019-07-10T09:39:52.663251Z",
     "start_time": "2019-07-10T09:39:52.630263Z"
    },
    "scrolled": true
   },
   "outputs": [
    {
     "name": "stdout",
     "output_type": "stream",
     "text": [
      "Train error 4.877306622350133\n",
      "Test error 7.976082494729241\n"
     ]
    }
   ],
   "source": [
    "print(\"Train error\",np.sqrt(metrics.mean_squared_error(y_train, y_pred_train)))\n",
    "print(\"Test error\",np.sqrt(metrics.mean_squared_error(y_test, y_pred_test)))"
   ]
  }
 ],
 "metadata": {
  "kernelspec": {
   "display_name": "Python 3",
   "language": "python",
   "name": "python3"
  },
  "language_info": {
   "codemirror_mode": {
    "name": "ipython",
    "version": 3
   },
   "file_extension": ".py",
   "mimetype": "text/x-python",
   "name": "python",
   "nbconvert_exporter": "python",
   "pygments_lexer": "ipython3",
   "version": "3.7.3"
  },
  "toc": {
   "base_numbering": 1,
   "nav_menu": {},
   "number_sections": true,
   "sideBar": true,
   "skip_h1_title": false,
   "title_cell": "Table of Contents",
   "title_sidebar": "Contents",
   "toc_cell": false,
   "toc_position": {},
   "toc_section_display": true,
   "toc_window_display": false
  },
  "varInspector": {
   "cols": {
    "lenName": 16,
    "lenType": 16,
    "lenVar": 40
   },
   "kernels_config": {
    "python": {
     "delete_cmd_postfix": "",
     "delete_cmd_prefix": "del ",
     "library": "var_list.py",
     "varRefreshCmd": "print(var_dic_list())"
    },
    "r": {
     "delete_cmd_postfix": ") ",
     "delete_cmd_prefix": "rm(",
     "library": "var_list.r",
     "varRefreshCmd": "cat(var_dic_list()) "
    }
   },
   "types_to_exclude": [
    "module",
    "function",
    "builtin_function_or_method",
    "instance",
    "_Feature"
   ],
   "window_display": false
  }
 },
 "nbformat": 4,
 "nbformat_minor": 2
}
